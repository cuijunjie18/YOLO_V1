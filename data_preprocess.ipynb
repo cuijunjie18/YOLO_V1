{
 "cells": [
  {
   "cell_type": "markdown",
   "id": "f7cd184b",
   "metadata": {},
   "source": [
    "### **数据预处理**"
   ]
  },
  {
   "cell_type": "markdown",
   "id": "96a57338",
   "metadata": {},
   "source": [
    "**一、数据集label格式转化：xml to yolo**"
   ]
  },
  {
   "cell_type": "code",
   "execution_count": 2,
   "id": "6fe3786c",
   "metadata": {},
   "outputs": [],
   "source": [
    "import xml.etree.ElementTree as ET\n",
    "import glob\n",
    "import os\n",
    "from tqdm import tqdm"
   ]
  },
  {
   "cell_type": "markdown",
   "id": "27b862d8",
   "metadata": {},
   "source": [
    "**xml格式处理简单学习**"
   ]
  },
  {
   "cell_type": "code",
   "execution_count": 3,
   "id": "2b3b4a54",
   "metadata": {},
   "outputs": [
    {
     "name": "stdout",
     "output_type": "stream",
     "text": [
      "<Element 'annotation' at 0x7582dc2e4040>\n"
     ]
    }
   ],
   "source": [
    "import xml.etree.ElementTree as ET\n",
    "Annotations_path = \"VOC2012/Annotations/*.xml\"\n",
    "for filename in glob.glob(Annotations_path):\n",
    "    tree = ET.parse(filename)\n",
    "    root = tree.getroot()\n",
    "    print(root)\n",
    "    break"
   ]
  },
  {
   "cell_type": "code",
   "execution_count": 4,
   "id": "c33b2a0f",
   "metadata": {},
   "outputs": [
    {
     "name": "stdout",
     "output_type": "stream",
     "text": [
      "元素名: filename, 属性: {}, 文本: 2011_007141.jpg\n",
      "元素名: folder, 属性: {}, 文本: VOC2011\n",
      "元素名: object, 属性: {}, 文本: \n",
      "\t\t\n",
      "元素名: segmented, 属性: {}, 文本: 0\n",
      "元素名: size, 属性: {}, 文本: \n",
      "\t\t\n",
      "元素名: source, 属性: {}, 文本: \n",
      "\t\t\n"
     ]
    }
   ],
   "source": [
    "# 遍历元素\n",
    "for child in root:\n",
    "    print(f\"元素名: {child.tag}, 属性: {child.attrib}, 文本: {child.text}\")"
   ]
  },
  {
   "cell_type": "code",
   "execution_count": 5,
   "id": "e460476d",
   "metadata": {},
   "outputs": [
    {
     "name": "stdout",
     "output_type": "stream",
     "text": [
      "<class 'str'>\n",
      "2011_007141.jpg\n"
     ]
    }
   ],
   "source": [
    "# 查找指定的元素\n",
    "filename = root.find('filename')\n",
    "print(type(filename.text))\n",
    "print((filename.text))"
   ]
  },
  {
   "cell_type": "code",
   "execution_count": 7,
   "id": "8ad829f0",
   "metadata": {},
   "outputs": [
    {
     "name": "stdout",
     "output_type": "stream",
     "text": [
      "[{'name': 'person', 'bbox': [260, 91, 356, 306]}]\n"
     ]
    }
   ],
   "source": [
    "# 对于root有多个同名的tag，使用迭代\n",
    "# 解析所有目标\n",
    "objects = []\n",
    "for obj in root.iter('object'):\n",
    "    obj_data = {\n",
    "        'name': obj.find('name').text,\n",
    "        'bbox': [\n",
    "            int(obj.find('bndbox/xmin').text),\n",
    "            int(obj.find('bndbox/ymin').text),\n",
    "            int(obj.find('bndbox/xmax').text),\n",
    "            int(obj.find('bndbox/ymax').text)\n",
    "        ]\n",
    "    }\n",
    "objects.append(obj_data)\n",
    "print(objects)"
   ]
  },
  {
   "cell_type": "markdown",
   "id": "8cd181a6",
   "metadata": {},
   "source": [
    "**下面开始处理数据集**\n",
    "\n",
    "将每个xml中的图片filename，物品的类别及bbox提取出来(一张图可能有多个)"
   ]
  },
  {
   "cell_type": "code",
   "execution_count": 15,
   "id": "40fd173c",
   "metadata": {},
   "outputs": [
    {
     "name": "stdout",
     "output_type": "stream",
     "text": [
      "{'person': 0, 'bird': 1, 'bus': 2, 'car': 3, 'sofa': 4, 'cat': 5, 'chair': 6, 'cow': 7, 'motorbike': 8, 'bicycle': 9, 'bottle': 10, 'diningtable': 11, 'dog': 12, 'pottedplant': 13, 'aeroplane': 14, 'train': 15, 'horse': 16, 'boat': 17, 'tvmonitor': 18, 'sheep': 19}\n",
      "20\n"
     ]
    }
   ],
   "source": [
    "import xml.etree.ElementTree as ET\n",
    "\n",
    "class_map = {} # 定义类别字典，用于class2idx\n",
    "class_nums = 0\n",
    "\n",
    "# xml文件所处路径\n",
    "Annotations_path = \"VOC2012/Annotations/*.xml\"\n",
    "\n",
    "# 划分数据集为训练与测试集\n",
    "f_train = open(\"train.txt\",\"w\",encoding = 'utf-8') # w为重写模式\n",
    "f_test = open(\"test.txt\",\"w\",encoding = 'utf-8')\n",
    "\n",
    "# 设置随机种子去划分\n",
    "import random\n",
    "all_xml_files = glob.glob(Annotations_path)\n",
    "random.seed(666)\n",
    "shuffled_data = random.sample(all_xml_files,len(all_xml_files)) # 打乱但不修改原数据\n",
    "split_idx = int(len(all_xml_files) * 0.8)\n",
    "train_xml_files = shuffled_data[:split_idx]\n",
    "test_xml_files = shuffled_data[split_idx:]\n",
    "\n",
    "# 处理训练集\n",
    "for xmlname in train_xml_files:\n",
    "    tree = ET.parse(xmlname)\n",
    "    root = tree.getroot()\n",
    "    img_name = root.find(\"filename\").text\n",
    "    f_train.write(f\"{img_name} \")\n",
    "    for obj in root.iter(\"object\"):\n",
    "        obj_name = obj.find(\"name\").text\n",
    "        if obj_name not in class_map:\n",
    "            class_map[obj_name] = class_nums\n",
    "            class_nums += 1\n",
    "        x_min = obj.find(\"bndbox/xmin\").text\n",
    "        x_max = obj.find(\"bndbox/xmax\").text\n",
    "        y_min = obj.find(\"bndbox/ymin\").text\n",
    "        y_max = obj.find(\"bndbox/ymax\").text\n",
    "        f_train.write(f\"{x_min} {y_min} {x_max} {y_min} {class_map[obj_name]} \") # 按特定顺序写入文件\n",
    "    f_train.write(\"\\n\")\n",
    "\n",
    "# 处理测试集\n",
    "for xmlname in test_xml_files:\n",
    "    tree = ET.parse(xmlname)\n",
    "    root = tree.getroot()\n",
    "    img_name = root.find(\"filename\").text\n",
    "    f_test.write(f\"{img_name} \")\n",
    "    for obj in root.iter(\"object\"):\n",
    "        obj_name = obj.find(\"name\").text\n",
    "        if obj_name not in class_map:\n",
    "            class_map[obj_name] = class_nums\n",
    "            class_nums += 1\n",
    "        x_min = obj.find(\"bndbox/xmin\").text\n",
    "        x_max = obj.find(\"bndbox/xmax\").text\n",
    "        y_min = obj.find(\"bndbox/ymin\").text\n",
    "        y_max = obj.find(\"bndbox/ymax\").text\n",
    "        f_test.write(f\"{x_min} {y_min} {x_max} {y_min} {class_map[obj_name]} \") # 按特定顺序写入文件\n",
    "    f_test.write(\"\\n\")\n",
    "\n",
    "# 关闭文件\n",
    "f_train.close()\n",
    "f_test.close()\n",
    "\n",
    "# 检测类别数量是否符合\n",
    "print(class_map)\n",
    "print(class_nums) # 预期20类"
   ]
  },
  {
   "cell_type": "markdown",
   "id": "77e055d1",
   "metadata": {},
   "source": [
    "**二、生成Dataset，可用于迭代器生成**"
   ]
  },
  {
   "cell_type": "markdown",
   "id": "7edbb8b3",
   "metadata": {},
   "source": []
  }
 ],
 "metadata": {
  "kernelspec": {
   "display_name": "QwenLM",
   "language": "python",
   "name": "python3"
  },
  "language_info": {
   "codemirror_mode": {
    "name": "ipython",
    "version": 3
   },
   "file_extension": ".py",
   "mimetype": "text/x-python",
   "name": "python",
   "nbconvert_exporter": "python",
   "pygments_lexer": "ipython3",
   "version": "3.10.16"
  }
 },
 "nbformat": 4,
 "nbformat_minor": 5
}
