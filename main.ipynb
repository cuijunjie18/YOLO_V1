{
 "cells": [
  {
   "cell_type": "markdown",
   "id": "15e7a72c",
   "metadata": {},
   "source": [
    "### **yolov1论文**"
   ]
  },
  {
   "cell_type": "code",
   "execution_count": null,
   "id": "e4d1dc85",
   "metadata": {},
   "outputs": [],
   "source": [
    "import torch\n",
    "from torch import nn\n",
    "from torchinfo import summary"
   ]
  },
  {
   "cell_type": "markdown",
   "id": "4795a34d",
   "metadata": {},
   "source": [
    "**一、搭建模型**\n",
    "\n",
    "**backbone采用VGG架构**"
   ]
  },
  {
   "cell_type": "code",
   "execution_count": 51,
   "id": "2e84419e",
   "metadata": {},
   "outputs": [],
   "source": [
    "def get_yolov1(num_classes = 20):\n",
    "    \"\"\"获取yolov1o模型\"\"\"\n",
    "    return nn.Sequential(\n",
    "        nn.Conv2d(3,64,kernel_size = 7,stride = 2,padding = 3),nn.LeakyReLU(),\n",
    "        nn.MaxPool2d(2,2),                    # k = 2,s = 2的MaxPool2d层使图像分辨率减半\n",
    "        nn.Conv2d(64,192,kernel_size = 3,padding = 1),nn.LeakyReLU(),\n",
    "        nn.MaxPool2d(2,2),\n",
    "        nn.Conv2d(192,128,1),nn.LeakyReLU(),\n",
    "        nn.Conv2d(128,256,3,padding = 1),nn.LeakyReLU(),\n",
    "        nn.Conv2d(256,256,1),nn.LeakyReLU(),\n",
    "        nn.Conv2d(256,512,3,padding = 1),nn.LeakyReLU(),\n",
    "        nn.MaxPool2d(2,2),\n",
    "        nn.Conv2d(512,256,1),nn.LeakyReLU(),\n",
    "        nn.Conv2d(256,512,3,padding = 1),nn.LeakyReLU(),\n",
    "        nn.Conv2d(512,256,1),nn.LeakyReLU(),\n",
    "        nn.Conv2d(256,512,3,padding = 1),nn.LeakyReLU(),\n",
    "        nn.Conv2d(512,256,1),nn.LeakyReLU(),\n",
    "        nn.Conv2d(256,512,3,padding = 1),nn.LeakyReLU(),\n",
    "        nn.Conv2d(512,256,1),nn.LeakyReLU(),\n",
    "        nn.Conv2d(256,512,3,padding = 1),nn.LeakyReLU(),\n",
    "        nn.Conv2d(512,512,1),nn.LeakyReLU(),\n",
    "        nn.Conv2d(512,1024,3,padding = 1),nn.LeakyReLU(),\n",
    "        nn.MaxPool2d(2,2),\n",
    "        nn.Conv2d(1024,512,1),nn.LeakyReLU(),\n",
    "        nn.Conv2d(512,1024,3,padding = 1),nn.LeakyReLU(),\n",
    "        nn.Conv2d(1024,512,1),nn.LeakyReLU(),\n",
    "        nn.Conv2d(512,1024,3,padding = 1),nn.LeakyReLU(),\n",
    "        nn.Conv2d(1024,1024,3,padding = 1),nn.LeakyReLU(),\n",
    "        nn.Conv2d(1024,1024,3,stride = 2,padding = 1),nn.LeakyReLU(),\n",
    "        nn.Conv2d(1024,1024,3,padding = 1),nn.LeakyReLU(),\n",
    "        nn.Conv2d(1024,1024,3,padding = 1),nn.LeakyReLU(),\n",
    "        nn.Flatten(),nn.Linear(7 * 7 * 1024,4096),\n",
    "        nn.Linear(4096,7 * 7 * 30)\n",
    "    )"
   ]
  },
  {
   "cell_type": "code",
   "execution_count": 47,
   "id": "8ba188d4",
   "metadata": {},
   "outputs": [],
   "source": [
    "net = get_yolov1()"
   ]
  },
  {
   "cell_type": "code",
   "execution_count": 50,
   "id": "10a77355",
   "metadata": {},
   "outputs": [
    {
     "name": "stdout",
     "output_type": "stream",
     "text": [
      "torch.Size([1, 30, 7, 7])\n"
     ]
    }
   ],
   "source": [
    "input = torch.rand((1,3,448,448)) # 通道优先\n",
    "y_pred = net(input).reshape(1,30,7,7)\n",
    "# y_pred = net(input)\n",
    "print(y_pred.shape)"
   ]
  },
  {
   "cell_type": "markdown",
   "id": "550eae18",
   "metadata": {},
   "source": [
    "**二、定义损失函数**"
   ]
  },
  {
   "cell_type": "code",
   "execution_count": null,
   "id": "26ab9371",
   "metadata": {},
   "outputs": [],
   "source": [
    "class LossYolo():\n",
    "    \"\"\"yolov1的损失函数\"\"\"\n",
    "    def __init__(self):\n",
    "        self.coord = 5\n",
    "        self.noobj = 0.5\n"
   ]
  }
 ],
 "metadata": {
  "kernelspec": {
   "display_name": "QwenLM",
   "language": "python",
   "name": "python3"
  },
  "language_info": {
   "codemirror_mode": {
    "name": "ipython",
    "version": 3
   },
   "file_extension": ".py",
   "mimetype": "text/x-python",
   "name": "python",
   "nbconvert_exporter": "python",
   "pygments_lexer": "ipython3",
   "version": "3.10.16"
  }
 },
 "nbformat": 4,
 "nbformat_minor": 5
}
