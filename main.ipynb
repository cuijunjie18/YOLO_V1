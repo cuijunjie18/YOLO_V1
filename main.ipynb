{
 "cells": [
  {
   "cell_type": "markdown",
   "id": "15e7a72c",
   "metadata": {},
   "source": [
    "### **yolov1论文**"
   ]
  },
  {
   "cell_type": "code",
   "execution_count": 2,
   "id": "e4d1dc85",
   "metadata": {},
   "outputs": [],
   "source": [
    "import torch\n",
    "from torch import nn\n",
    "from torchinfo import summary"
   ]
  },
  {
   "cell_type": "markdown",
   "id": "4795a34d",
   "metadata": {},
   "source": [
    "**一、搭建模型**\n",
    "\n",
    "**backbone采用VGG架构**"
   ]
  },
  {
   "cell_type": "code",
   "execution_count": 3,
   "id": "2e84419e",
   "metadata": {},
   "outputs": [],
   "source": [
    "def get_yolov1(num_classes = 20):\n",
    "    \"\"\"获取yolov1o模型\"\"\"\n",
    "    return nn.Sequential(\n",
    "        nn.Conv2d(3,64,kernel_size = 7,stride = 2,padding = 3),nn.LeakyReLU(),\n",
    "        nn.MaxPool2d(2,2),                    # k = 2,s = 2的MaxPool2d层使图像分辨率减半\n",
    "        nn.Conv2d(64,192,kernel_size = 3,padding = 1),nn.LeakyReLU(),\n",
    "        nn.MaxPool2d(2,2),\n",
    "        nn.Conv2d(192,128,1),nn.LeakyReLU(),\n",
    "        nn.Conv2d(128,256,3,padding = 1),nn.LeakyReLU(),\n",
    "        nn.Conv2d(256,256,1),nn.LeakyReLU(),\n",
    "        nn.Conv2d(256,512,3,padding = 1),nn.LeakyReLU(),\n",
    "        nn.MaxPool2d(2,2),\n",
    "        nn.Conv2d(512,256,1),nn.LeakyReLU(),\n",
    "        nn.Conv2d(256,512,3,padding = 1),nn.LeakyReLU(),\n",
    "        nn.Conv2d(512,256,1),nn.LeakyReLU(),\n",
    "        nn.Conv2d(256,512,3,padding = 1),nn.LeakyReLU(),\n",
    "        nn.Conv2d(512,256,1),nn.LeakyReLU(),\n",
    "        nn.Conv2d(256,512,3,padding = 1),nn.LeakyReLU(),\n",
    "        nn.Conv2d(512,256,1),nn.LeakyReLU(),\n",
    "        nn.Conv2d(256,512,3,padding = 1),nn.LeakyReLU(),\n",
    "        nn.Conv2d(512,512,1),nn.LeakyReLU(),\n",
    "        nn.Conv2d(512,1024,3,padding = 1),nn.LeakyReLU(),\n",
    "        nn.MaxPool2d(2,2),\n",
    "        nn.Conv2d(1024,512,1),nn.LeakyReLU(),\n",
    "        nn.Conv2d(512,1024,3,padding = 1),nn.LeakyReLU(),\n",
    "        nn.Conv2d(1024,512,1),nn.LeakyReLU(),\n",
    "        nn.Conv2d(512,1024,3,padding = 1),nn.LeakyReLU(),\n",
    "        nn.Conv2d(1024,1024,3,padding = 1),nn.LeakyReLU(),\n",
    "        nn.Conv2d(1024,1024,3,stride = 2,padding = 1),nn.LeakyReLU(),\n",
    "        nn.Conv2d(1024,1024,3,padding = 1),nn.LeakyReLU(),\n",
    "        nn.Conv2d(1024,1024,3,padding = 1),nn.LeakyReLU(),\n",
    "        nn.Flatten(),nn.Linear(7 * 7 * 1024,4096),\n",
    "        nn.Linear(4096,7 * 7 * 30)\n",
    "    )"
   ]
  },
  {
   "cell_type": "code",
   "execution_count": 4,
   "id": "8ba188d4",
   "metadata": {},
   "outputs": [],
   "source": [
    "net = get_yolov1()"
   ]
  },
  {
   "cell_type": "code",
   "execution_count": 5,
   "id": "10a77355",
   "metadata": {},
   "outputs": [
    {
     "name": "stdout",
     "output_type": "stream",
     "text": [
      "torch.Size([1, 30, 7, 7])\n"
     ]
    }
   ],
   "source": [
    "input = torch.rand((1,3,448,448)) # 通道优先\n",
    "y_pred = net(input).reshape(1,30,7,7)\n",
    "# y_pred = net(input)\n",
    "print(y_pred.shape)"
   ]
  },
  {
   "cell_type": "code",
   "execution_count": 6,
   "id": "55a7f2df",
   "metadata": {},
   "outputs": [
    {
     "name": "stdout",
     "output_type": "stream",
     "text": [
      "==========================================================================================\n",
      "Layer (type:depth-idx)                   Output Shape              Param #\n",
      "==========================================================================================\n",
      "Sequential                               [1, 1470]                 --\n",
      "├─Conv2d: 1-1                            [1, 64, 224, 224]         9,472\n",
      "├─LeakyReLU: 1-2                         [1, 64, 224, 224]         --\n",
      "├─MaxPool2d: 1-3                         [1, 64, 112, 112]         --\n",
      "├─Conv2d: 1-4                            [1, 192, 112, 112]        110,784\n",
      "├─LeakyReLU: 1-5                         [1, 192, 112, 112]        --\n",
      "├─MaxPool2d: 1-6                         [1, 192, 56, 56]          --\n",
      "├─Conv2d: 1-7                            [1, 128, 56, 56]          24,704\n",
      "├─LeakyReLU: 1-8                         [1, 128, 56, 56]          --\n",
      "├─Conv2d: 1-9                            [1, 256, 56, 56]          295,168\n",
      "├─LeakyReLU: 1-10                        [1, 256, 56, 56]          --\n",
      "├─Conv2d: 1-11                           [1, 256, 56, 56]          65,792\n",
      "├─LeakyReLU: 1-12                        [1, 256, 56, 56]          --\n",
      "├─Conv2d: 1-13                           [1, 512, 56, 56]          1,180,160\n",
      "├─LeakyReLU: 1-14                        [1, 512, 56, 56]          --\n",
      "├─MaxPool2d: 1-15                        [1, 512, 28, 28]          --\n",
      "├─Conv2d: 1-16                           [1, 256, 28, 28]          131,328\n",
      "├─LeakyReLU: 1-17                        [1, 256, 28, 28]          --\n",
      "├─Conv2d: 1-18                           [1, 512, 28, 28]          1,180,160\n",
      "├─LeakyReLU: 1-19                        [1, 512, 28, 28]          --\n",
      "├─Conv2d: 1-20                           [1, 256, 28, 28]          131,328\n",
      "├─LeakyReLU: 1-21                        [1, 256, 28, 28]          --\n",
      "├─Conv2d: 1-22                           [1, 512, 28, 28]          1,180,160\n",
      "├─LeakyReLU: 1-23                        [1, 512, 28, 28]          --\n",
      "├─Conv2d: 1-24                           [1, 256, 28, 28]          131,328\n",
      "├─LeakyReLU: 1-25                        [1, 256, 28, 28]          --\n",
      "├─Conv2d: 1-26                           [1, 512, 28, 28]          1,180,160\n",
      "├─LeakyReLU: 1-27                        [1, 512, 28, 28]          --\n",
      "├─Conv2d: 1-28                           [1, 256, 28, 28]          131,328\n",
      "├─LeakyReLU: 1-29                        [1, 256, 28, 28]          --\n",
      "├─Conv2d: 1-30                           [1, 512, 28, 28]          1,180,160\n",
      "├─LeakyReLU: 1-31                        [1, 512, 28, 28]          --\n",
      "├─Conv2d: 1-32                           [1, 512, 28, 28]          262,656\n",
      "├─LeakyReLU: 1-33                        [1, 512, 28, 28]          --\n",
      "├─Conv2d: 1-34                           [1, 1024, 28, 28]         4,719,616\n",
      "├─LeakyReLU: 1-35                        [1, 1024, 28, 28]         --\n",
      "├─MaxPool2d: 1-36                        [1, 1024, 14, 14]         --\n",
      "├─Conv2d: 1-37                           [1, 512, 14, 14]          524,800\n",
      "├─LeakyReLU: 1-38                        [1, 512, 14, 14]          --\n",
      "├─Conv2d: 1-39                           [1, 1024, 14, 14]         4,719,616\n",
      "├─LeakyReLU: 1-40                        [1, 1024, 14, 14]         --\n",
      "├─Conv2d: 1-41                           [1, 512, 14, 14]          524,800\n",
      "├─LeakyReLU: 1-42                        [1, 512, 14, 14]          --\n",
      "├─Conv2d: 1-43                           [1, 1024, 14, 14]         4,719,616\n",
      "├─LeakyReLU: 1-44                        [1, 1024, 14, 14]         --\n",
      "├─Conv2d: 1-45                           [1, 1024, 14, 14]         9,438,208\n",
      "├─LeakyReLU: 1-46                        [1, 1024, 14, 14]         --\n",
      "├─Conv2d: 1-47                           [1, 1024, 7, 7]           9,438,208\n",
      "├─LeakyReLU: 1-48                        [1, 1024, 7, 7]           --\n",
      "├─Conv2d: 1-49                           [1, 1024, 7, 7]           9,438,208\n",
      "├─LeakyReLU: 1-50                        [1, 1024, 7, 7]           --\n",
      "├─Conv2d: 1-51                           [1, 1024, 7, 7]           9,438,208\n",
      "├─LeakyReLU: 1-52                        [1, 1024, 7, 7]           --\n",
      "├─Flatten: 1-53                          [1, 50176]                --\n",
      "├─Linear: 1-54                           [1, 4096]                 205,524,992\n",
      "├─Linear: 1-55                           [1, 1470]                 6,022,590\n",
      "==========================================================================================\n",
      "Total params: 271,703,550\n",
      "Trainable params: 271,703,550\n",
      "Non-trainable params: 0\n",
      "Total mult-adds (G): 20.30\n",
      "==========================================================================================\n",
      "Input size (MB): 2.41\n",
      "Forward/backward pass size (MB): 110.43\n",
      "Params size (MB): 1086.81\n",
      "Estimated Total Size (MB): 1199.65\n",
      "==========================================================================================\n"
     ]
    }
   ],
   "source": [
    "print(summary(net,input_data = input))"
   ]
  },
  {
   "cell_type": "markdown",
   "id": "550eae18",
   "metadata": {},
   "source": [
    "**二、定义损失函数**"
   ]
  },
  {
   "cell_type": "code",
   "execution_count": null,
   "id": "26ab9371",
   "metadata": {},
   "outputs": [],
   "source": [
    "class LossYolo():\n",
    "    \"\"\"yolov1的损失函数\"\"\"\n",
    "    def __init__(self):\n",
    "        self.coord = 5\n",
    "        self.noobj = 0.5\n"
   ]
  }
 ],
 "metadata": {
  "kernelspec": {
   "display_name": "QwenLM",
   "language": "python",
   "name": "python3"
  },
  "language_info": {
   "codemirror_mode": {
    "name": "ipython",
    "version": 3
   },
   "file_extension": ".py",
   "mimetype": "text/x-python",
   "name": "python",
   "nbconvert_exporter": "python",
   "pygments_lexer": "ipython3",
   "version": "3.10.16"
  }
 },
 "nbformat": 4,
 "nbformat_minor": 5
}
